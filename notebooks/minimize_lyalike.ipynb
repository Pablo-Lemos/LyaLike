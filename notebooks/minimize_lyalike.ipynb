{
 "cells": [
  {
   "cell_type": "markdown",
   "metadata": {},
   "source": [
    "# Simple Lya P1D forecasts using minimizer and MCMC"
   ]
  },
  {
   "cell_type": "code",
   "execution_count": 1,
   "metadata": {},
   "outputs": [],
   "source": [
    "%matplotlib inline\n",
    "import os\n",
    "import numpy as np\n",
    "from cobaya.yaml import yaml_load_file\n",
    "from cobaya.run import run"
   ]
  },
  {
   "cell_type": "markdown",
   "metadata": {},
   "source": [
    "Load pre-run chains for Lya BAO and gal BAO"
   ]
  },
  {
   "cell_type": "code",
   "execution_count": 2,
   "metadata": {},
   "outputs": [
    {
     "name": "stdout",
     "output_type": "stream",
     "text": [
      "[camb] Importing *auto-installed* CAMB (but defaulting to *global*).\n",
      "[camb] Initialized!\n",
      "[minimize] Initializing\n",
      "[minimize] Starting from random initial point:\n",
      "[minimize] {'ns': 0.9578880180602191, 'logA': 2.9966079522371523}\n",
      "[minimize] Starting minimization.\n",
      "[minimize] Finished successfully!\n",
      "[minimize] -log(posterior) minimized to -0.77651\n",
      "[minimize] Parameter values at minimum:\n",
      "   weight  minuslogpost        ns     logA            As     ombh2     omch2  minuslogprior  minuslogprior__0      chi2  chi2__lyalike.lya.Tester\n",
      "0     1.0      -0.77651  0.964462  3.02958  2.068854e-09  0.021996  0.120109      -0.776529         -0.776529  0.000037                  0.000037\n"
     ]
    }
   ],
   "source": [
    "info = yaml_load_file('../inifiles/test.yaml')\n",
    "info['force']=True\n",
    "info['debug']=False\n",
    "info['output']=None\n",
    "_, sampler = run(info)"
   ]
  },
  {
   "cell_type": "code",
   "execution_count": 3,
   "metadata": {},
   "outputs": [],
   "source": [
    "def get_covariance(sampler):\n",
    "    p = sampler.products()\n",
    "    r = p['result_object']\n",
    "    try:\n",
    "        # method: scipy\n",
    "        inv_hess = r.hess_inv.todense()\n",
    "    except:\n",
    "        # method: bobyqa\n",
    "        inv_hess = np.linalg.inv(r.hessian)\n",
    "    cov=p['M'].T.dot(inv_hess).dot(p['M'])\n",
    "    return cov"
   ]
  },
  {
   "cell_type": "code",
   "execution_count": 4,
   "metadata": {},
   "outputs": [
    {
     "name": "stdout",
     "output_type": "stream",
     "text": [
      "ns = 9.64462e-01 +/- 2.68436e-03\n",
      "logA = 3.02958e+00 +/- 9.85926e-03\n"
     ]
    }
   ],
   "source": [
    "cov=get_covariance(sampler)\n",
    "min_err=np.sqrt(cov.diagonal())\n",
    "min_ns=sampler.products()['minimum']['ns']\n",
    "min_logA=sampler.products()['minimum']['logA']\n",
    "print('ns = {:.5e} +/- {:.5e}'.format(min_ns,min_err[0]))\n",
    "print('logA = {:.5e} +/- {:.5e}'.format(min_logA,min_err[1]))"
   ]
  },
  {
   "cell_type": "markdown",
   "metadata": {},
   "source": [
    "### Redo with MCMC chains"
   ]
  },
  {
   "cell_type": "code",
   "execution_count": 5,
   "metadata": {},
   "outputs": [
    {
     "name": "stdout",
     "output_type": "stream",
     "text": [
      "[camb] Importing *auto-installed* CAMB (but defaulting to *global*).\n",
      "[camb] Initialized!\n",
      "[mcmc] Getting initial point... (this may take a few seconds)\n",
      "[model] Measuring speeds... (this may take a few seconds)\n",
      "[model] Setting measured speeds (per sec): {lyalike.lya.Tester: 34500.0, camb.transfers: 1.43, camb: 1600.0, lyalike.lya.Lya: 1610.0}\n",
      "[mcmc] Covariance matrix not present. We will start learning the covariance of the proposal earlier: R-1 = 30 (would be 2 if all params loaded).\n",
      "[mcmc] Initial point: ns:0.9605521, logA:2.889106\n",
      "[mcmc] Sampling!\n",
      "[mcmc] Progress @ 2021-03-15 05:35:08 : 1 steps taken, and 0 accepted.\n",
      "[mcmc] Learn + convergence test @ 80 samples accepted.\n",
      "[mcmc]  - Acceptance rate: 0.031\n",
      "[mcmc]  - Convergence of means: R-1 = 0.624957 after 80 accepted steps\n",
      "[mcmc]  - Updated covariance matrix of proposal pdf.\n",
      "[mcmc] Learn + convergence test @ 160 samples accepted.\n",
      "[mcmc]  - Acceptance rate: 0.059\n",
      "[mcmc]  - Convergence of means: R-1 = 0.015186 after 160 accepted steps\n",
      "[mcmc]  - Updated covariance matrix of proposal pdf.\n",
      "[mcmc] Learn + convergence test @ 240 samples accepted.\n",
      "[mcmc]  - Acceptance rate: 0.082\n",
      "[mcmc]  - Convergence of means: R-1 = 0.046719 after 240 accepted steps\n",
      "[mcmc]  - Updated covariance matrix of proposal pdf.\n",
      "[mcmc] Learn + convergence test @ 320 samples accepted.\n",
      "[mcmc]  - Acceptance rate: 0.103\n",
      "[mcmc]  - Convergence of means: R-1 = 0.044285 after 320 accepted steps\n",
      "[mcmc]  - Updated covariance matrix of proposal pdf.\n",
      "[mcmc] Learn + convergence test @ 400 samples accepted.\n",
      "[mcmc]  - Acceptance rate: 0.119\n",
      "[mcmc]  - Convergence of means: R-1 = 0.025341 after 400 accepted steps\n",
      "[mcmc]  - Updated covariance matrix of proposal pdf.\n",
      "[mcmc] Learn + convergence test @ 480 samples accepted.\n",
      "[mcmc]  - Acceptance rate: 0.134\n",
      "[mcmc]  - Convergence of means: R-1 = 0.022899 after 480 accepted steps\n",
      "[mcmc]  - Updated covariance matrix of proposal pdf.\n",
      "[mcmc] Learn + convergence test @ 560 samples accepted.\n",
      "[mcmc]  - Acceptance rate: 0.143\n",
      "[mcmc]  - Convergence of means: R-1 = 0.009478 after 560 accepted steps\n",
      "[mcmc]  - Updated covariance matrix of proposal pdf.\n",
      "[mcmc] Learn + convergence test @ 640 samples accepted.\n",
      "[mcmc]  - Acceptance rate: 0.154\n",
      "[mcmc]  - Convergence of means: R-1 = 0.011985 after 640 accepted steps\n",
      "[mcmc]  - Updated covariance matrix of proposal pdf.\n",
      "[mcmc] Learn + convergence test @ 720 samples accepted.\n",
      "[mcmc]  - Acceptance rate: 0.163\n",
      "[mcmc]  - Convergence of means: R-1 = 0.018218 after 720 accepted steps\n",
      "[mcmc]  - Updated covariance matrix of proposal pdf.\n",
      "[mcmc] Learn + convergence test @ 800 samples accepted.\n",
      "[mcmc]  - Acceptance rate: 0.171\n",
      "[mcmc]  - Convergence of means: R-1 = 0.011449 after 800 accepted steps\n",
      "[mcmc]  - Updated covariance matrix of proposal pdf.\n",
      "[mcmc] Learn + convergence test @ 880 samples accepted.\n",
      "[mcmc]  - Acceptance rate: 0.179\n",
      "[mcmc]  - Convergence of means: R-1 = 0.016101 after 880 accepted steps\n",
      "[mcmc]  - Updated covariance matrix of proposal pdf.\n",
      "[mcmc] Learn + convergence test @ 960 samples accepted.\n",
      "[mcmc]  - Acceptance rate: 0.185\n",
      "[mcmc]  - Convergence of means: R-1 = 0.016627 after 960 accepted steps\n",
      "[mcmc]  - Updated covariance matrix of proposal pdf.\n",
      "[mcmc] Learn + convergence test @ 1040 samples accepted.\n",
      "[mcmc]  - Acceptance rate: 0.191\n",
      "[mcmc]  - Convergence of means: R-1 = 0.010704 after 1040 accepted steps\n",
      "[mcmc]  - Updated covariance matrix of proposal pdf.\n",
      "[mcmc] Learn + convergence test @ 1120 samples accepted.\n",
      "[mcmc]  - Acceptance rate: 0.198\n",
      "[mcmc]  - Convergence of means: R-1 = 0.010053 after 1120 accepted steps\n",
      "[mcmc]  - Updated covariance matrix of proposal pdf.\n",
      "[mcmc] Learn + convergence test @ 1200 samples accepted.\n",
      "[mcmc]  - Acceptance rate: 0.203\n",
      "[mcmc]  - Convergence of means: R-1 = 0.006733 after 1200 accepted steps\n",
      "[mcmc]  - Updated covariance matrix of proposal pdf.\n",
      "[mcmc] Learn + convergence test @ 1280 samples accepted.\n",
      "[mcmc]  - Acceptance rate: 0.209\n",
      "[mcmc]  - Convergence of means: R-1 = 0.005053 after 1280 accepted steps\n",
      "[mcmc]  - Convergence of bounds: R-1 = 0.126983 after 1280 accepted steps\n",
      "[mcmc] The run has converged!\n",
      "[mcmc] Sampling complete after 1280 accepted steps.\n"
     ]
    }
   ],
   "source": [
    "info_mcmc = yaml_load_file('../inifiles/test.yaml')\n",
    "info_mcmc['sampler']={'mcmc':{'max_tries':1000}}\n",
    "info_mcmc['force']=True\n",
    "info_mcmc['debug']=False\n",
    "info_mcmc['output']=None\n",
    "updated_info_mcmc, sampler_mcmc = run(info_mcmc)"
   ]
  },
  {
   "cell_type": "code",
   "execution_count": 6,
   "metadata": {},
   "outputs": [
    {
     "name": "stdout",
     "output_type": "stream",
     "text": [
      "[root] *WARNING* outlier fraction 0.05078125 \n",
      "mcmc ns = 9.64688e-01 +/- 2.87093e-03\n",
      "mcmc logA = 3.02946e+00 +/- 9.31773e-03\n"
     ]
    }
   ],
   "source": [
    "# Export the results to GetDist\n",
    "from getdist.mcsamples import MCSamplesFromCobaya\n",
    "\n",
    "gd_sample = MCSamplesFromCobaya(updated_info_mcmc, sampler_mcmc.products()[\"sample\"])\n",
    "# Analyze and plot\n",
    "mcmc_mean = gd_sample.getMeans()[:2]\n",
    "mcmc_cov = gd_sample.getCovMat().matrix[:2, :2]\n",
    "mcmc_err = np.sqrt(mcmc_cov.diagonal())\n",
    "print('mcmc ns = {:.5e} +/- {:.5e}'.format(mcmc_mean[0],mcmc_err[0]))\n",
    "print('mcmc logA = {:.5e} +/- {:.5e}'.format(mcmc_mean[1],mcmc_err[1]))"
   ]
  },
  {
   "cell_type": "code",
   "execution_count": 7,
   "metadata": {},
   "outputs": [
    {
     "name": "stdout",
     "output_type": "stream",
     "text": [
      "minimizer ns = 9.64462e-01 +/- 2.68436e-03\n",
      "minimizer logA = 3.02958e+00 +/- 9.85926e-03\n"
     ]
    }
   ],
   "source": [
    "print('minimizer ns = {:.5e} +/- {:.5e}'.format(min_ns,min_err[0]))\n",
    "print('minimizer logA = {:.5e} +/- {:.5e}'.format(min_logA,min_err[1]))"
   ]
  },
  {
   "cell_type": "code",
   "execution_count": null,
   "metadata": {},
   "outputs": [],
   "source": []
  },
  {
   "cell_type": "code",
   "execution_count": null,
   "metadata": {},
   "outputs": [],
   "source": []
  }
 ],
 "metadata": {
  "kernelspec": {
   "display_name": "cobaya_git",
   "language": "python",
   "name": "cobaya_git"
  },
  "language_info": {
   "codemirror_mode": {
    "name": "ipython",
    "version": 3
   },
   "file_extension": ".py",
   "mimetype": "text/x-python",
   "name": "python",
   "nbconvert_exporter": "python",
   "pygments_lexer": "ipython3",
   "version": "3.9.2"
  }
 },
 "nbformat": 4,
 "nbformat_minor": 4
}

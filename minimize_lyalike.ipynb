{
 "cells": [
  {
   "cell_type": "markdown",
   "metadata": {},
   "source": [
    "# Simple Lya P1D forecasts using minimizer and MCMC"
   ]
  },
  {
   "cell_type": "code",
   "execution_count": 1,
   "metadata": {},
   "outputs": [],
   "source": [
    "%matplotlib inline\n",
    "import os\n",
    "import numpy as np\n",
    "from cobaya.yaml import yaml_load_file\n",
    "from cobaya.run import run"
   ]
  },
  {
   "cell_type": "markdown",
   "metadata": {},
   "source": [
    "Load pre-run chains for Lya BAO and gal BAO"
   ]
  },
  {
   "cell_type": "code",
   "execution_count": 2,
   "metadata": {},
   "outputs": [
    {
     "name": "stdout",
     "output_type": "stream",
     "text": [
      "[output_mpi] Output to be read-from/written-into folder 'minimum', with prefix 'test'\n",
      "[camb] Importing *auto-installed* CAMB (but defaulting to *global*).\n",
      "[camb] Initialized!\n",
      "[minimize] Initializing\n",
      "[minimize] Starting from random initial point:\n",
      "[minimize] {'ns': 0.9636834800892071, 'logA': 2.9832137507029217}\n",
      "[minimize] Starting minimization.\n",
      "[minimize] Finished successfully!\n",
      "[minimize] -log(posterior) minimized to -0.776503\n",
      "[minimize] Parameter values at minimum:\n",
      "   weight  minuslogpost       ns      logA            As     ombh2     omch2  minuslogprior  minuslogprior__0      chi2  chi2__lyalike.lya.Tester\n",
      "0     1.0     -0.776503  0.96446  3.029459  2.068604e-09  0.021996  0.120109      -0.776529         -0.776529  0.000052                  0.000052\n"
     ]
    }
   ],
   "source": [
    "info = yaml_load_file('inifiles/test.yaml')\n",
    "info['force']=True\n",
    "info['debug']=False\n",
    "_, sampler = run(info)"
   ]
  },
  {
   "cell_type": "code",
   "execution_count": 3,
   "metadata": {},
   "outputs": [],
   "source": [
    "def get_covariance(sampler):\n",
    "    p = sampler.products()\n",
    "    r = p['result_object']\n",
    "    try:\n",
    "        # method: scipy\n",
    "        inv_hess = r.hess_inv.todense()\n",
    "    except:\n",
    "        # method: bobyqa\n",
    "        inv_hess = np.linalg.inv(r.hessian)\n",
    "    cov=p['M'].T.dot(inv_hess).dot(p['M'])\n",
    "    return cov"
   ]
  },
  {
   "cell_type": "code",
   "execution_count": 5,
   "metadata": {},
   "outputs": [
    {
     "name": "stdout",
     "output_type": "stream",
     "text": [
      "ns = 9.64460e-01 +/- 2.94586e-03\n",
      "logA = 3.02946e+00 +/- 9.82473e-03\n"
     ]
    }
   ],
   "source": [
    "cov=get_covariance(sampler)\n",
    "min_err=np.sqrt(cov.diagonal())\n",
    "min_ns=sampler.products()['minimum']['ns']\n",
    "min_logA=sampler.products()['minimum']['logA']\n",
    "print('ns = {:.5e} +/- {:.5e}'.format(min_ns,min_err[0]))\n",
    "print('logA = {:.5e} +/- {:.5e}'.format(min_logA,min_err[1]))"
   ]
  },
  {
   "cell_type": "markdown",
   "metadata": {},
   "source": [
    "### Redo with MCMC chains"
   ]
  },
  {
   "cell_type": "code",
   "execution_count": 10,
   "metadata": {},
   "outputs": [
    {
     "name": "stdout",
     "output_type": "stream",
     "text": [
      "[output_mpi] Output to be read-from/written-into folder 'minimum', with prefix 'test'\n",
      "[camb] Importing *auto-installed* CAMB (but defaulting to *global*).\n",
      "[camb] Initialized!\n",
      "[mcmc] Getting initial point... (this may take a few seconds)\n",
      "[model] Measuring speeds... (this may take a few seconds)\n",
      "[model] Setting measured speeds (per sec): {lyalike.lya.Tester: 29100.0, camb.transfers: 1.37, camb: 1430.0, lyalike.lya.Lya: 1450.0}\n",
      "[mcmc] Covariance matrix not present. We will start learning the covariance of the proposal earlier: R-1 = 30 (would be 2 if all params loaded).\n",
      "[mcmc] Initial point: ns:0.9704006, logA:2.845645\n",
      "[mcmc] Sampling!\n",
      "[mcmc] Progress @ 2021-03-15 05:23:17 : 1 steps taken, and 0 accepted.\n",
      "[mcmc] Learn + convergence test @ 80 samples accepted.\n",
      "[mcmc]  - Acceptance rate: 0.045\n",
      "[mcmc]  - Convergence of means: R-1 = 0.191041 after 80 accepted steps\n",
      "[mcmc]  - Updated covariance matrix of proposal pdf.\n",
      "[mcmc] Learn + convergence test @ 160 samples accepted.\n",
      "[mcmc]  - Acceptance rate: 0.077\n",
      "[mcmc]  - Convergence of means: R-1 = 0.054602 after 160 accepted steps\n",
      "[mcmc]  - Updated covariance matrix of proposal pdf.\n",
      "[mcmc] Learn + convergence test @ 240 samples accepted.\n",
      "[mcmc]  - Acceptance rate: 0.103\n",
      "[mcmc]  - Convergence of means: R-1 = 0.097435 after 240 accepted steps\n",
      "[mcmc]  - Updated covariance matrix of proposal pdf.\n",
      "[mcmc] Learn + convergence test @ 320 samples accepted.\n",
      "[mcmc]  - Acceptance rate: 0.125\n",
      "[mcmc]  - Convergence of means: R-1 = 0.076212 after 320 accepted steps\n",
      "[mcmc]  - Updated covariance matrix of proposal pdf.\n",
      "[mcmc] Learn + convergence test @ 400 samples accepted.\n",
      "[mcmc]  - Acceptance rate: 0.142\n",
      "[mcmc]  - Convergence of means: R-1 = 0.029760 after 400 accepted steps\n",
      "[mcmc]  - Updated covariance matrix of proposal pdf.\n",
      "[mcmc] Learn + convergence test @ 480 samples accepted.\n",
      "[mcmc]  - Acceptance rate: 0.158\n",
      "[mcmc]  - Convergence of means: R-1 = 0.056831 after 480 accepted steps\n",
      "[mcmc]  - Updated covariance matrix of proposal pdf.\n",
      "[mcmc] Learn + convergence test @ 560 samples accepted.\n",
      "[mcmc]  - Acceptance rate: 0.171\n",
      "[mcmc]  - Convergence of means: R-1 = 0.056931 after 560 accepted steps\n",
      "[mcmc]  - Updated covariance matrix of proposal pdf.\n",
      "[mcmc] Learn + convergence test @ 640 samples accepted.\n",
      "[mcmc]  - Acceptance rate: 0.179\n",
      "[mcmc]  - Convergence of means: R-1 = 0.048430 after 640 accepted steps\n",
      "[mcmc]  - Updated covariance matrix of proposal pdf.\n",
      "[mcmc] Learn + convergence test @ 720 samples accepted.\n",
      "[mcmc]  - Acceptance rate: 0.188\n",
      "[mcmc]  - Convergence of means: R-1 = 0.026491 after 720 accepted steps\n",
      "[mcmc]  - Updated covariance matrix of proposal pdf.\n",
      "[mcmc] Learn + convergence test @ 800 samples accepted.\n",
      "[mcmc]  - Acceptance rate: 0.196\n",
      "[mcmc]  - Convergence of means: R-1 = 0.071706 after 800 accepted steps\n",
      "[mcmc]  - Updated covariance matrix of proposal pdf.\n",
      "[mcmc] Learn + convergence test @ 880 samples accepted.\n",
      "[mcmc]  - Acceptance rate: 0.203\n",
      "[mcmc]  - Convergence of means: R-1 = 0.050155 after 880 accepted steps\n",
      "[mcmc]  - Updated covariance matrix of proposal pdf.\n",
      "[mcmc] Learn + convergence test @ 960 samples accepted.\n",
      "[mcmc]  - Acceptance rate: 0.209\n",
      "[mcmc]  - Convergence of means: R-1 = 0.036556 after 960 accepted steps\n",
      "[mcmc]  - Updated covariance matrix of proposal pdf.\n",
      "[mcmc] Learn + convergence test @ 1040 samples accepted.\n",
      "[mcmc]  - Acceptance rate: 0.213\n",
      "[mcmc]  - Convergence of means: R-1 = 0.063195 after 1040 accepted steps\n",
      "[mcmc]  - Updated covariance matrix of proposal pdf.\n",
      "[mcmc] Learn + convergence test @ 1120 samples accepted.\n",
      "[mcmc]  - Acceptance rate: 0.218\n",
      "[mcmc]  - Convergence of means: R-1 = 0.041108 after 1120 accepted steps\n",
      "[mcmc]  - Updated covariance matrix of proposal pdf.\n",
      "[mcmc] Learn + convergence test @ 1200 samples accepted.\n",
      "[mcmc]  - Acceptance rate: 0.220\n",
      "[mcmc]  - Convergence of means: R-1 = 0.009507 after 1200 accepted steps\n",
      "[mcmc]  - Updated covariance matrix of proposal pdf.\n",
      "[mcmc] Learn + convergence test @ 1280 samples accepted.\n",
      "[mcmc]  - Acceptance rate: 0.223\n",
      "[mcmc]  - Convergence of means: R-1 = 0.021414 after 1280 accepted steps\n",
      "[mcmc]  - Updated covariance matrix of proposal pdf.\n",
      "[mcmc] Learn + convergence test @ 1360 samples accepted.\n",
      "[mcmc]  - Acceptance rate: 0.225\n",
      "[mcmc]  - Convergence of means: R-1 = 0.029761 after 1360 accepted steps\n",
      "[mcmc]  - Updated covariance matrix of proposal pdf.\n",
      "[mcmc] Learn + convergence test @ 1440 samples accepted.\n",
      "[mcmc]  - Acceptance rate: 0.227\n",
      "[mcmc]  - Convergence of means: R-1 = 0.051851 after 1440 accepted steps\n",
      "[mcmc]  - Updated covariance matrix of proposal pdf.\n",
      "[mcmc] Learn + convergence test @ 1520 samples accepted.\n",
      "[mcmc]  - Acceptance rate: 0.228\n",
      "[mcmc]  - Convergence of means: R-1 = 0.031940 after 1520 accepted steps\n",
      "[mcmc]  - Updated covariance matrix of proposal pdf.\n",
      "[mcmc] Learn + convergence test @ 1600 samples accepted.\n",
      "[mcmc]  - Acceptance rate: 0.230\n",
      "[mcmc]  - Convergence of means: R-1 = 0.024854 after 1600 accepted steps\n",
      "[mcmc]  - Updated covariance matrix of proposal pdf.\n",
      "[mcmc] Learn + convergence test @ 1680 samples accepted.\n",
      "[mcmc]  - Acceptance rate: 0.233\n",
      "[mcmc]  - Convergence of means: R-1 = 0.016005 after 1680 accepted steps\n",
      "[mcmc]  - Updated covariance matrix of proposal pdf.\n",
      "[mcmc] Learn + convergence test @ 1760 samples accepted.\n",
      "[mcmc]  - Acceptance rate: 0.236\n",
      "[mcmc]  - Convergence of means: R-1 = 0.015719 after 1760 accepted steps\n",
      "[mcmc]  - Updated covariance matrix of proposal pdf.\n",
      "[mcmc] Learn + convergence test @ 1840 samples accepted.\n",
      "[mcmc]  - Acceptance rate: 0.235\n",
      "[mcmc]  - Convergence of means: R-1 = 0.008640 after 1840 accepted steps\n",
      "[mcmc]  - Updated covariance matrix of proposal pdf.\n",
      "[mcmc] Learn + convergence test @ 1920 samples accepted.\n",
      "[mcmc]  - Acceptance rate: 0.237\n",
      "[mcmc]  - Convergence of means: R-1 = 0.014667 after 1920 accepted steps\n",
      "[mcmc]  - Updated covariance matrix of proposal pdf.\n",
      "[mcmc] Learn + convergence test @ 2000 samples accepted.\n",
      "[mcmc]  - Acceptance rate: 0.239\n",
      "[mcmc]  - Convergence of means: R-1 = 0.021627 after 2000 accepted steps\n",
      "[mcmc]  - Updated covariance matrix of proposal pdf.\n",
      "[mcmc] Learn + convergence test @ 2080 samples accepted.\n",
      "[mcmc]  - Acceptance rate: 0.240\n",
      "[mcmc]  - Convergence of means: R-1 = 0.018782 after 2080 accepted steps\n",
      "[mcmc]  - Updated covariance matrix of proposal pdf.\n",
      "[mcmc] Learn + convergence test @ 2160 samples accepted.\n",
      "[mcmc]  - Acceptance rate: 0.242\n",
      "[mcmc]  - Convergence of means: R-1 = 0.025649 after 2160 accepted steps\n",
      "[mcmc]  - Updated covariance matrix of proposal pdf.\n",
      "[mcmc] Learn + convergence test @ 2240 samples accepted.\n",
      "[mcmc]  - Acceptance rate: 0.241\n",
      "[mcmc]  - Convergence of means: R-1 = 0.019534 after 2240 accepted steps\n",
      "[mcmc]  - Updated covariance matrix of proposal pdf.\n",
      "[mcmc] Learn + convergence test @ 2320 samples accepted.\n",
      "[mcmc]  - Acceptance rate: 0.242\n",
      "[mcmc]  - Convergence of means: R-1 = 0.009744 after 2320 accepted steps\n",
      "[mcmc]  - Updated covariance matrix of proposal pdf.\n",
      "[mcmc] Learn + convergence test @ 2400 samples accepted.\n",
      "[mcmc]  - Acceptance rate: 0.244\n",
      "[mcmc]  - Convergence of means: R-1 = 0.010555 after 2400 accepted steps\n",
      "[mcmc]  - Updated covariance matrix of proposal pdf.\n",
      "[mcmc] Learn + convergence test @ 2480 samples accepted.\n",
      "[mcmc]  - Acceptance rate: 0.245\n",
      "[mcmc]  - Convergence of means: R-1 = 0.010903 after 2480 accepted steps\n",
      "[mcmc]  - Updated covariance matrix of proposal pdf.\n",
      "[mcmc] Learn + convergence test @ 2560 samples accepted.\n",
      "[mcmc]  - Acceptance rate: 0.247\n",
      "[mcmc]  - Convergence of means: R-1 = 0.010293 after 2560 accepted steps\n",
      "[mcmc]  - Updated covariance matrix of proposal pdf.\n",
      "[mcmc] Learn + convergence test @ 2640 samples accepted.\n",
      "[mcmc]  - Acceptance rate: 0.247\n",
      "[mcmc]  - Convergence of means: R-1 = 0.015354 after 2640 accepted steps\n",
      "[mcmc]  - Updated covariance matrix of proposal pdf.\n",
      "[mcmc] Learn + convergence test @ 2720 samples accepted.\n",
      "[mcmc]  - Acceptance rate: 0.249\n",
      "[mcmc]  - Convergence of means: R-1 = 0.013104 after 2720 accepted steps\n",
      "[mcmc]  - Updated covariance matrix of proposal pdf.\n",
      "[mcmc] Learn + convergence test @ 2800 samples accepted.\n",
      "[mcmc]  - Acceptance rate: 0.250\n",
      "[mcmc]  - Convergence of means: R-1 = 0.011386 after 2800 accepted steps\n",
      "[mcmc]  - Updated covariance matrix of proposal pdf.\n",
      "[mcmc] Learn + convergence test @ 2880 samples accepted.\n",
      "[mcmc]  - Acceptance rate: 0.250\n",
      "[mcmc]  - Convergence of means: R-1 = 0.011706 after 2880 accepted steps\n",
      "[mcmc]  - Updated covariance matrix of proposal pdf.\n",
      "[mcmc] Learn + convergence test @ 2960 samples accepted.\n",
      "[mcmc]  - Acceptance rate: 0.250\n",
      "[mcmc]  - Convergence of means: R-1 = 0.013805 after 2960 accepted steps\n",
      "[mcmc]  - Updated covariance matrix of proposal pdf.\n",
      "[mcmc] Learn + convergence test @ 3040 samples accepted.\n",
      "[mcmc]  - Acceptance rate: 0.250\n",
      "[mcmc]  - Convergence of means: R-1 = 0.007608 after 3040 accepted steps\n",
      "[mcmc]  - Updated covariance matrix of proposal pdf.\n",
      "[mcmc] Learn + convergence test @ 3120 samples accepted.\n",
      "[mcmc]  - Acceptance rate: 0.250\n",
      "[mcmc]  - Convergence of means: R-1 = 0.007431 after 3120 accepted steps\n",
      "[mcmc]  - Convergence of bounds: R-1 = 0.107879 after 3120 accepted steps\n",
      "[mcmc] The run has converged!\n",
      "[mcmc] Sampling complete after 3120 accepted steps.\n"
     ]
    }
   ],
   "source": [
    "info_mcmc = yaml_load_file('inifiles/test.yaml')\n",
    "info_mcmc['sampler']={'mcmc':{'max_tries':1000}}\n",
    "info_mcmc['force']=True\n",
    "info_mcmc['debug']=False\n",
    "updated_info_mcmc, sampler_mcmc = run(info_mcmc)"
   ]
  },
  {
   "cell_type": "code",
   "execution_count": 11,
   "metadata": {},
   "outputs": [
    {
     "name": "stdout",
     "output_type": "stream",
     "text": [
      "[root] *WARNING* outlier fraction 0.009935897435897435 \n",
      "mcmc ns = 9.64356e-01 +/- 3.11527e-03\n",
      "mcmc logA = 3.02911e+00 +/- 9.46103e-03\n"
     ]
    }
   ],
   "source": [
    "# Export the results to GetDist\n",
    "from getdist.mcsamples import MCSamplesFromCobaya\n",
    "\n",
    "gd_sample = MCSamplesFromCobaya(updated_info_mcmc, sampler_mcmc.products()[\"sample\"])\n",
    "# Analyze and plot\n",
    "mcmc_mean = gd_sample.getMeans()[:2]\n",
    "mcmc_cov = gd_sample.getCovMat().matrix[:2, :2]\n",
    "mcmc_err = np.sqrt(mcmc_cov.diagonal())\n",
    "print('mcmc ns = {:.5e} +/- {:.5e}'.format(mcmc_mean[0],mcmc_err[0]))\n",
    "print('mcmc logA = {:.5e} +/- {:.5e}'.format(mcmc_mean[1],mcmc_err[1]))"
   ]
  },
  {
   "cell_type": "code",
   "execution_count": 12,
   "metadata": {},
   "outputs": [
    {
     "name": "stdout",
     "output_type": "stream",
     "text": [
      "minimizer ns = 9.64460e-01 +/- 2.94586e-03\n",
      "minimizer logA = 3.02946e+00 +/- 9.82473e-03\n"
     ]
    }
   ],
   "source": [
    "print('minimizer ns = {:.5e} +/- {:.5e}'.format(min_ns,min_err[0]))\n",
    "print('minimizer logA = {:.5e} +/- {:.5e}'.format(min_logA,min_err[1]))"
   ]
  },
  {
   "cell_type": "code",
   "execution_count": null,
   "metadata": {},
   "outputs": [],
   "source": []
  }
 ],
 "metadata": {
  "kernelspec": {
   "display_name": "cobaya_git",
   "language": "python",
   "name": "cobaya_git"
  },
  "language_info": {
   "codemirror_mode": {
    "name": "ipython",
    "version": 3
   },
   "file_extension": ".py",
   "mimetype": "text/x-python",
   "name": "python",
   "nbconvert_exporter": "python",
   "pygments_lexer": "ipython3",
   "version": "3.9.2"
  }
 },
 "nbformat": 4,
 "nbformat_minor": 4
}
